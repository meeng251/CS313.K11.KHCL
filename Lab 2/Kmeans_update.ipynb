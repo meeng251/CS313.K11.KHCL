{
 "cells": [
  {
   "cell_type": "code",
   "execution_count": 1,
   "metadata": {},
   "outputs": [],
   "source": [
    "import numpy as np\n",
    "import pandas as pd\n",
    "from matplotlib import pyplot as plt\n",
    "import math\n",
    "import random as rd\n",
    "import glob"
   ]
  },
  {
   "cell_type": "code",
   "execution_count": 9,
   "metadata": {},
   "outputs": [],
   "source": [
    "allFiles = glob.glob(\"data/*_va3.csv\")\n",
    "df = pd.DataFrame()\n",
    "list_ = []\n",
    "\n",
    "for file_ in allFiles:\n",
    "    df = pd.read_csv(file_, index_col=None, header=0, sep=',')\n",
    "    list_.append(df)\n",
    "    \n",
    "df = pd.concat(list_, sort = True)\n",
    "#df.head()\n",
    "len(df)"
   ]
  },
  {
   "cell_type": "code",
   "execution_count": 11,
   "metadata": {},
   "outputs": [],
   "source": [
    "y = df['Phase'].values.tolist()\n",
    "#type(y); y.describe(); y.head(3); y.shape; y.unique() # (165632, )\n",
    "dic = {'D':0, 'P':1, 'S':2, 'H':3, 'R':4}\n",
    "y = [dic.get(n, n) for n in y]"
   ]
  },
  {
   "cell_type": "code",
   "execution_count": 12,
   "metadata": {},
   "outputs": [
    {
     "data": {
      "text/plain": [
       "array([[ 1.93940e-04, -1.48040e-04,  1.18210e-04, ...,  1.19730e-04,\n",
       "        -5.71800e-05, -8.19000e-05],\n",
       "       [ 2.54420e-04, -1.08820e-04,  5.33600e-05, ...,  1.68180e-04,\n",
       "        -1.42560e-04, -9.39600e-05],\n",
       "       [ 2.76360e-04, -5.26300e-05, -3.34800e-05, ...,  1.94360e-04,\n",
       "        -1.97630e-04, -9.29200e-05],\n",
       "       ...,\n",
       "       [ 3.07408e-03,  4.13420e-04, -1.13780e-04, ...,  2.78558e-03,\n",
       "         5.03483e-03, -6.06410e-04],\n",
       "       [ 3.29680e-03,  5.79910e-04, -3.80930e-04, ...,  2.94716e-03,\n",
       "         5.38513e-03, -6.51760e-04],\n",
       "       [ 2.04320e-04,  6.44270e-04, -4.80730e-04, ...,  2.28860e-04,\n",
       "         3.19000e-06,  6.14900e-05]])"
      ]
     },
     "execution_count": 12,
     "metadata": {},
     "output_type": "execute_result"
    }
   ],
   "source": [
    "X = df.drop(labels=['Phase'], axis=1, inplace = True)\n",
    "X = df.astype(float)\n",
    "X = df.values\n",
    "X"
   ]
  },
  {
   "cell_type": "code",
   "execution_count": 13,
   "metadata": {},
   "outputs": [],
   "source": [
    "class K_Means:\n",
    "    def __init__(self, k=5, tol=0.001, max_iter=300):\n",
    "        self.k = k\n",
    "        self.tol = tol\n",
    "        self.max_iter = max_iter\n",
    "\n",
    "    def fit(self,data):\n",
    "\n",
    "        self.centroids = {}\n",
    "\n",
    "        for i in range(self.k):\n",
    "            self.centroids[i] = data[i]\n",
    "\n",
    "        for i in range(self.max_iter):\n",
    "            self.classifications = {}\n",
    "\n",
    "            for i in range(self.k):\n",
    "                self.classifications[i] = []\n",
    "\n",
    "            for featureset in data:\n",
    "                distances = [np.linalg.norm(featureset-self.centroids[centroid]) for centroid in self.centroids]\n",
    "                classification = distances.index(min(distances))\n",
    "                self.classifications[classification].append(featureset)\n",
    "\n",
    "            prev_centroids = dict(self.centroids)\n",
    "\n",
    "            for classification in self.classifications:\n",
    "                self.centroids[classification] = np.average(self.classifications[classification],axis=0)\n",
    "\n",
    "            optimized = True\n",
    "\n",
    "            for c in self.centroids:\n",
    "                original_centroid = prev_centroids[c]\n",
    "                current_centroid = self.centroids[c]\n",
    "                if np.sum((current_centroid-original_centroid)/original_centroid*100.0) > self.tol:\n",
    "                    #print(np.sum((current_centroid-original_centroid)/original_centroid*100.0))\n",
    "                    optimized = False\n",
    "\n",
    "            if optimized:\n",
    "                break\n",
    "\n",
    "    def predict(self,data):\n",
    "        distances = [np.linalg.norm(data-self.centroids[centroid]) for centroid in self.centroids]\n",
    "        classification = distances.index(min(distances))\n",
    "        return classification"
   ]
  },
  {
   "cell_type": "code",
   "execution_count": 14,
   "metadata": {},
   "outputs": [
    {
     "name": "stdout",
     "output_type": "stream",
     "text": [
      "6911\n",
      "2962\n",
      "6911\n",
      "2962\n"
     ]
    }
   ],
   "source": [
    "from sklearn.model_selection import train_test_split\n",
    "\n",
    "X_train, X_test, y_train, y_test = train_test_split(X, y, test_size=0.3, random_state=100)\n",
    "\n",
    "print(len(X_train))\n",
    "print(len(X_test))\n",
    "print(len(y_train))\n",
    "print(len(y_test))"
   ]
  },
  {
   "cell_type": "code",
   "execution_count": 15,
   "metadata": {},
   "outputs": [
    {
     "name": "stdout",
     "output_type": "stream",
     "text": [
      "Accuracy 0.3649561107359892\n"
     ]
    }
   ],
   "source": [
    "clf = K_Means()\n",
    "clf.fit(X_train)\n",
    "correct = 0\n",
    "for i in range(len(X_test)):\n",
    "    predict_me = np.array(X_test[i].astype(float))\n",
    "    predict_me = predict_me.reshape(-1, len(predict_me))\n",
    "    prediction = clf.predict(predict_me)\n",
    "    #print(\"Predict: \", prediction, \" || Actual: \", y_test[i])\n",
    "    if prediction == y_test[i]:\n",
    "        correct += 1\n",
    "\n",
    "print(\"Accuracy\",correct/len(X_test))"
   ]
  },
  {
   "cell_type": "code",
   "execution_count": null,
   "metadata": {},
   "outputs": [],
   "source": []
  },
  {
   "cell_type": "code",
   "execution_count": null,
   "metadata": {},
   "outputs": [],
   "source": []
  }
 ],
 "metadata": {
  "kernelspec": {
   "display_name": "Python 3",
   "language": "python",
   "name": "python3"
  },
  "language_info": {
   "codemirror_mode": {
    "name": "ipython",
    "version": 3
   },
   "file_extension": ".py",
   "mimetype": "text/x-python",
   "name": "python",
   "nbconvert_exporter": "python",
   "pygments_lexer": "ipython3",
   "version": "3.7.4"
  }
 },
 "nbformat": 4,
 "nbformat_minor": 4
}
